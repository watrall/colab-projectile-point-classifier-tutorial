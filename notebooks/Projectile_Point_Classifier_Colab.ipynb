{
  "cells": [
    {
      "cell_type": "markdown",
      "metadata": {},
      "source": [
        "# Projectile Point Classifier — Google Colab Edition (Expanded Intros)\n",
        "This notebook mirrors the README tutorial. Each step includes a conversational, detailed intro.\n"
      ]
    },
    {
      "cell_type": "markdown",
      "metadata": {},
      "source": [
        "## Step 0 — Check our setup\n",
        "\n",
        "When you launch a Google Colab notebook, you’re basically borrowing a temporary computer hosted in Google’s cloud. Sometimes Colab gives you only a CPU, and other times you get a GPU. GPUs, originally built for games, can process thousands of calculations at once, making them great for AI. If you get one, training is much faster — but the tutorial works fine even without one.\n",
        "\n",
        "We also install **Gradio**, a tool that lets us build a simple web app for our model. Later, you’ll be able to drag-and-drop an image and instantly see predictions, all from a neat little demo page. Think of this as setting the stage so we know our computing power and are ready to share results.\n"
      ]
    },
    {
      "cell_type": "code",
      "metadata": {},
      "execution_count": null,
      "outputs": [],
      "source": [
        "import tensorflow as tf\n",
        "print(\"TensorFlow version:\", tf.__version__)\n",
        "print(\"GPU available:\", tf.config.list_physical_devices('GPU'))\n",
        "\n",
        "!pip -q install gradio==4.44.0"
      ]
    }
  ],
  "metadata": {
    "kernelspec": {
      "display_name": "Python 3",
      "language": "python",
      "name": "python3"
    },
    "language_info": {
      "name": "python",
      "version": "3.x"
    }
  },
  "nbformat": 4,
  "nbformat_minor": 5
}